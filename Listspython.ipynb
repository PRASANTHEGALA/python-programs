{
  "nbformat": 4,
  "nbformat_minor": 0,
  "metadata": {
    "colab": {
      "name": "Listspython.ipynb",
      "provenance": [],
      "include_colab_link": true
    },
    "kernelspec": {
      "name": "python3",
      "display_name": "Python 3"
    },
    "language_info": {
      "name": "python"
    }
  },
  "cells": [
    {
      "cell_type": "markdown",
      "metadata": {
        "id": "view-in-github",
        "colab_type": "text"
      },
      "source": [
        "<a href=\"https://colab.research.google.com/github/PRASANTHEGALA/python-programs/blob/main/Listspython.ipynb\" target=\"_parent\"><img src=\"https://colab.research.google.com/assets/colab-badge.svg\" alt=\"Open In Colab\"/></a>"
      ]
    },
    {
      "cell_type": "code",
      "execution_count": null,
      "metadata": {
        "colab": {
          "base_uri": "https://localhost:8080/"
        },
        "id": "3DhPRtnr47X4",
        "outputId": "d89306a8-c59b-4e1b-c7b7-7c7d72127fb3"
      },
      "outputs": [
        {
          "output_type": "stream",
          "name": "stdout",
          "text": [
            "apple\n",
            "orange\n",
            "grape\n",
            "watermelon\n",
            "mango\n",
            "banana\n",
            "----\n",
            "banana\n",
            "mango\n",
            "watermelon\n",
            "grape\n",
            "orange\n",
            "apple\n",
            "----\n",
            "['apple', 'orange', 'grape', 'watermelon', 'mango', 'banana']\n",
            "['grape', 'watermelon', 'mango', 'banana']\n",
            "----\n",
            "['orange', 'grape', 'watermelon', 'mango']\n",
            "----\n",
            "yes\n",
            "----\n",
            "['apple', 'orange', 'blackcurrent', 'watermelon', 'mango', 'banana']\n",
            "----\n",
            "['apple', 'orange', 'blackcurrent', 'kiwi', 'papaya', 'mango', 'banana']\n",
            "----\n",
            "['apple', 'orange', 'blackcurrent', 'kiwi', 'strawberry', 'papaya', 'mango', 'banana']\n",
            "----\n",
            "['apple', 'orange', 'blackcurrent', 'kiwi', 'strawberry', 'papaya', 'mango', 'banana', 'raspberry']\n",
            "----\n",
            "['apple', 'orange', 'grape', 'watermelon', 'mango', 'banana', 'cherry', 'gauva']\n",
            "----\n",
            "['apple', 'orange', 'grape', 'watermelon', 'mango', 'cherry', 'gauva']\n",
            "----\n",
            "['apple', 'orange', 'grape', 'watermelon', 'mango', 'cherry']\n",
            "----\n",
            "['apple', 'orange', 'grape', 'mango', 'cherry']\n"
          ]
        }
      ],
      "source": [
        "#Python Lists\n",
        "fruit=['apple','orange','grape','watermelon','mango','banana']\n",
        "#Python - Access List Items\n",
        "print(fruit[0])\n",
        "print(fruit[1])\n",
        "print(fruit[2])\n",
        "print(fruit[3])\n",
        "print(fruit[4])\n",
        "print(fruit[5])\n",
        "print(\"----\")\n",
        "#Negative Indexing\n",
        "print(fruit[-1])\n",
        "print(fruit[-2])\n",
        "print(fruit[-3])\n",
        "print(fruit[-4])\n",
        "print(fruit[-5])\n",
        "print(fruit[-6])\n",
        "print(\"----\")\n",
        "#Range of Indexes\n",
        "print(fruit[0:6])\n",
        "print(fruit[2:6])\n",
        "print(\"----\")\n",
        "#Range of Negative Indexes\n",
        "fruit=['apple','orange','grape','watermelon','mango','banana']\n",
        "print(fruit[-5:-1])\n",
        "print(\"----\")\n",
        "#Check if Item Exists\n",
        "if \"apple\" in fruit:\n",
        "  print(\"yes\")\n",
        "print(\"----\")  \n",
        "#Python - Change List Items\n",
        "fruit[2]=\"blackcurrent\"\n",
        "print(fruit)  \n",
        "print(\"----\")\n",
        "#Change a Range of Item Values\n",
        "fruit[2:4]=\"blackcurrent\",\"kiwi\",\"papaya\"\n",
        "print(fruit)\n",
        "print(\"----\")\n",
        "#Insert Items\n",
        "fruit.insert(4,\"strawberry\")\n",
        "print(fruit)\n",
        "print(\"----\")\n",
        "#Python - Add List Items\n",
        "fruit.append(\"raspberry\")\n",
        "print(fruit)\n",
        "print(\"----\")\n",
        "#Extend List\n",
        "fruit=['apple','orange','grape','watermelon','mango','banana']\n",
        "tropical=['cherry','gauva']\n",
        "fruit.extend(tropical)\n",
        "print(fruit)\n",
        "print(\"----\")\n",
        "#Python - Remove List Items\n",
        "fruit.remove(\"banana\")\n",
        "print(fruit)\n",
        "print(\"----\")\n",
        "#\n",
        "fruit.pop()\n",
        "print(fruit)\n",
        "print(\"----\")\n",
        "#Remove Specified Index\n",
        "fruit.pop(3)\n",
        "print(fruit)"
      ]
    },
    {
      "cell_type": "code",
      "source": [
        "#\n",
        "name=['m','a','d','h','a','v']\n",
        "print(name[-6:-1])\n",
        "print(name[0:6])\n",
        "print(name[:])\n",
        "print(name[4:])\n",
        "print(name[:4])"
      ],
      "metadata": {
        "colab": {
          "base_uri": "https://localhost:8080/"
        },
        "id": "dghawAXS_EEu",
        "outputId": "1611a32e-d656-4185-9733-f25f55488c16"
      },
      "execution_count": null,
      "outputs": [
        {
          "output_type": "stream",
          "name": "stdout",
          "text": [
            "['m', 'a', 'd', 'h', 'a']\n",
            "['m', 'a', 'd', 'h', 'a', 'v']\n",
            "['m', 'a', 'd', 'h', 'a', 'v']\n",
            "['a', 'v']\n",
            "['m', 'a', 'd', 'h']\n"
          ]
        }
      ]
    },
    {
      "cell_type": "code",
      "source": [
        "#Python - Loop Lists\n",
        "fruit=['apple','orange','grape','watermelon','mango','banana']\n",
        "for x in fruit:\n",
        "  print(x)\n",
        "print(\"----\")  \n",
        "#\n",
        "for x in range(len(fruit)):\n",
        "  print(fruit[x])    \n",
        "print(\"----\")  \n",
        "#\n",
        "fruit=['apple','orange','grape','watermelon','mango','banana']\n",
        "i=0\n",
        "while i<len(fruit):\n",
        "  print(fruit[i])\n",
        "  i=i+1\n",
        "print(\"----\")  \n",
        "#\n",
        "fruit=['apple','orange','grape','watermelon','mango','banana']\n",
        "[print(x) for x in fruit]\n",
        "print(\"----\")"
      ],
      "metadata": {
        "id": "0eZ_cP7iAqnY",
        "outputId": "2e38101b-32de-4b45-80f5-8ff07b93898d",
        "colab": {
          "base_uri": "https://localhost:8080/"
        }
      },
      "execution_count": null,
      "outputs": [
        {
          "output_type": "stream",
          "name": "stdout",
          "text": [
            "apple\n",
            "orange\n",
            "grape\n",
            "watermelon\n",
            "mango\n",
            "banana\n",
            "----\n",
            "apple\n",
            "orange\n",
            "grape\n",
            "watermelon\n",
            "mango\n",
            "banana\n",
            "----\n",
            "apple\n",
            "orange\n",
            "grape\n",
            "watermelon\n",
            "mango\n",
            "banana\n",
            "----\n",
            "apple\n",
            "orange\n",
            "grape\n",
            "watermelon\n",
            "mango\n",
            "banana\n",
            "----\n"
          ]
        }
      ]
    },
    {
      "cell_type": "code",
      "source": [
        "#Python - List Comprehension\n",
        "fruits=['apple','orange','grape','watermelon','mango','banana']\n",
        "new=[x for x in fruits if \"o\" in x]\n",
        "print(new)\n",
        "#Only accept items that are not \"apple\":\n",
        "fruits=['apple','orange','grape','watermelon','mango','banana']\n",
        "new=[x for x in fruits if x!= \"apple\"]\n",
        "print(new)\n",
        "#\n",
        "new=[x for x in fruits]\n",
        "print(new)\n",
        "#\n"
      ],
      "metadata": {
        "id": "A6gbVbuGGyge",
        "outputId": "217db0be-6d6b-44ec-c981-510437b4268c",
        "colab": {
          "base_uri": "https://localhost:8080/"
        }
      },
      "execution_count": null,
      "outputs": [
        {
          "output_type": "stream",
          "name": "stdout",
          "text": [
            "['orange', 'watermelon', 'mango']\n",
            "['orange', 'grape', 'watermelon', 'mango', 'banana']\n",
            "['apple', 'orange', 'grape', 'watermelon', 'mango', 'banana']\n"
          ]
        }
      ]
    },
    {
      "cell_type": "code",
      "source": [
        "#\n",
        "num=['1','2','3','4','5','6','7']\n",
        "num[6]='98'\n",
        "print(num[:])\n",
        "#\n",
        "fruit=['apple','orange','grape','watermelon','mango','banana']\n",
        "num=['1','2','3','4','5','6','7']\n",
        "c=fruit+num\n",
        "print(c)\n",
        "#\n",
        "fruit=['apple','orange','grape','watermelon','mango','banana']\n",
        "num=['1','2','3','4','5','6','7']\n",
        "for x in num:\n",
        "  fruit.append(x)\n",
        "print(fruit)  "
      ],
      "metadata": {
        "colab": {
          "base_uri": "https://localhost:8080/"
        },
        "id": "9GCJESkpBBG-",
        "outputId": "8ade4e65-d310-4d3a-da9b-43d83999a095"
      },
      "execution_count": null,
      "outputs": [
        {
          "output_type": "stream",
          "name": "stdout",
          "text": [
            "['1', '2', '3', '4', '5', '6', '98']\n",
            "['apple', 'orange', 'grape', 'watermelon', 'mango', 'banana', '1', '2', '3', '4', '5', '6', '7']\n",
            "['apple', 'orange', 'grape', 'watermelon', 'mango', 'banana', '1', '2', '3', '4', '5', '6', '7']\n"
          ]
        }
      ]
    }
  ]
}