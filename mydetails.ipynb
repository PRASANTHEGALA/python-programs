{
  "nbformat": 4,
  "nbformat_minor": 0,
  "metadata": {
    "colab": {
      "name": "Untitled4.ipynb",
      "provenance": [],
      "authorship_tag": "ABX9TyPlfpf3GGPvwTeuRx+fIy7a",
      "include_colab_link": true
    },
    "kernelspec": {
      "name": "python3",
      "display_name": "Python 3"
    },
    "language_info": {
      "name": "python"
    }
  },
  "cells": [
    {
      "cell_type": "markdown",
      "metadata": {
        "id": "view-in-github",
        "colab_type": "text"
      },
      "source": [
        "<a href=\"https://colab.research.google.com/github/PRASANTHEGALA/python-programs/blob/main/mydetails.ipynb\" target=\"_parent\"><img src=\"https://colab.research.google.com/assets/colab-badge.svg\" alt=\"Open In Colab\"/></a>"
      ]
    },
    {
      "cell_type": "code",
      "execution_count": null,
      "metadata": {
        "colab": {
          "base_uri": "https://localhost:8080/"
        },
        "id": "j1XwTuzjDGX2",
        "outputId": "9a32578b-7a3c-44c1-8730-e615669ff8cf"
      },
      "outputs": [
        {
          "output_type": "stream",
          "name": "stdout",
          "text": [
            "None\n"
          ]
        }
      ],
      "source": [
        "def my_details():\n",
        "  dt= {\n",
        "    'name': {'first-name':'Prasanth', 'last-name':'Egala'},\n",
        "    'roll-number':'VU21CSEN0300012',\n",
        "    'branch':'CSE',\n",
        "    'specialization':'AI-ML',\n",
        "    'email-id':'pegala@gitam.in',\n",
        "    'moodle-id':' VU21CSEN0300012',\n",
        "    'github-id':'PRASANTHEGALA',\n",
        "    'replit-id':'@PRASANTH-EGALAE',\n",
        "    'semester':'2',\n",
        "    'year':'1'\n",
        "   }\n",
        "dt = my_details()\n",
        "print(dt)\n"
      ]
    }
  ]
}