{
  "nbformat": 4,
  "nbformat_minor": 0,
  "metadata": {
    "colab": {
      "name": "question bank.ipynb",
      "provenance": [],
      "collapsed_sections": [],
      "include_colab_link": true
    },
    "kernelspec": {
      "name": "python3",
      "display_name": "Python 3"
    },
    "language_info": {
      "name": "python"
    }
  },
  "cells": [
    {
      "cell_type": "markdown",
      "metadata": {
        "id": "view-in-github",
        "colab_type": "text"
      },
      "source": [
        "<a href=\"https://colab.research.google.com/github/PRASANTHEGALA/python-programs/blob/main/question_bank.ipynb\" target=\"_parent\"><img src=\"https://colab.research.google.com/assets/colab-badge.svg\" alt=\"Open In Colab\"/></a>"
      ]
    },
    {
      "cell_type": "code",
      "execution_count": null,
      "metadata": {
        "id": "LlSOC0P_aqnQ"
      },
      "outputs": [],
      "source": [
        "# 1-write a progam to print all prime numbers ia given range  \n",
        "# 2-write a program to read any month in integer and display dates for that month\n",
        "# 3-write a python program to print even length in a string \n",
        "#  4-a) write a python program to captialize the first letter and last letter in a word\n",
        "#  4-b) write a program to a string from user display first character of each word with capital\n",
        "# 5-write a python rogram to convert a list of multiple integers in a single integer \n",
        "#input- (11,33,50)\n",
        "#output-113350"
      ]
    },
    {
      "cell_type": "code",
      "source": [
        "n=int(input(\"enter the size of list:\"))\n",
        "a=[]\n",
        "for i in range(n):\n",
        "   b=int(input(\"enter the number:\"))\n",
        "   a.append(b)\n",
        "if a[0]<a[1]<a[-1]:\n",
        "  print(\"1\")\n",
        "else:\n",
        "  print(\"0\")"
      ],
      "metadata": {
        "colab": {
          "base_uri": "https://localhost:8080/"
        },
        "id": "e53MqEyzGu-H",
        "outputId": "377e784b-ac65-4c5c-d21d-1684374200b8"
      },
      "execution_count": null,
      "outputs": [
        {
          "output_type": "stream",
          "name": "stdout",
          "text": [
            "enter the size of list:3\n",
            "enter the number:12\n",
            "enter the number:13\n",
            "enter the number:14\n",
            "1\n"
          ]
        }
      ]
    },
    {
      "cell_type": "code",
      "source": [
        "# 1-write a progam to print all prime numbers ia given range-(25,50)\n",
        "def prime(a,b):\n",
        "  for i in range(a,b+1):\n",
        "     k=0\n",
        "     for j in range(2,i):\n",
        "      if i%j==0:\n",
        "       k=k+1\n",
        "     if k==0:\n",
        "       print(i)\n",
        "prime(25,50)\n",
        "\n",
        "\n",
        "\n"
      ],
      "metadata": {
        "colab": {
          "base_uri": "https://localhost:8080/"
        },
        "id": "2XmMTUANcy-H",
        "outputId": "8941bea6-5e34-4eb5-a719-6802c0a497b6"
      },
      "execution_count": null,
      "outputs": [
        {
          "output_type": "stream",
          "name": "stdout",
          "text": [
            "29\n",
            "31\n",
            "37\n",
            "41\n",
            "43\n",
            "47\n"
          ]
        }
      ]
    },
    {
      "cell_type": "code",
      "source": [
        "#2-write a program to read any month in integer and display dates for that month\n",
        "a=input('enter month number')\n",
        "def month(a):\n",
        "   if a=='2':\n",
        "    print('no of days:28')\n",
        "   elif a in ('4','6','9','11'):\n",
        "    print('no of days:30')\n",
        "   elif a in ('1','3','5','7','8','10','12'):\n",
        "    print('no of days :31')\n",
        "   else:\n",
        "    print('bye')  \n",
        "month(a)  \n"
      ],
      "metadata": {
        "id": "6cz2gHJNlmGs",
        "colab": {
          "base_uri": "https://localhost:8080/"
        },
        "outputId": "a8f9fe31-1047-4040-8f62-feec162d3d6d"
      },
      "execution_count": null,
      "outputs": [
        {
          "output_type": "stream",
          "name": "stdout",
          "text": [
            "enter month number7\n",
            "no of days :31\n"
          ]
        }
      ]
    },
    {
      "cell_type": "code",
      "source": [
        "#write a python program to print even length in a string \n",
        "a=\"This is a python class\"\n",
        "def even(a):\n",
        "   a=a.split(\" \")\n",
        "   for i in a:\n",
        "     if len(i)%2==0:\n",
        "       print(i)\n",
        "even(a)\n"
      ],
      "metadata": {
        "colab": {
          "base_uri": "https://localhost:8080/"
        },
        "id": "Xg1cljJ8A1yQ",
        "outputId": "f509c573-82a9-4285-9795-5bfcf92161bf"
      },
      "execution_count": null,
      "outputs": [
        {
          "output_type": "stream",
          "name": "stdout",
          "text": [
            "This\n",
            "is\n",
            "python\n"
          ]
        }
      ]
    },
    {
      "cell_type": "code",
      "source": [
        "#  4-a) write a python program to captialize the first letter and last letter in a word\n",
        "a=input(\"enter a word:\")\n",
        "def upper(a):\n",
        "  a=a[6].upper()+a[1:len(a)-1]+a[-2].upper()\n",
        "  print(a)\n",
        "upper(a)"
      ],
      "metadata": {
        "colab": {
          "base_uri": "https://localhost:8080/"
        },
        "id": "5H7jmf74Coqz",
        "outputId": "e39bb0a5-8061-4ca0-9ce3-d1836ad9a1a1"
      },
      "execution_count": null,
      "outputs": [
        {
          "output_type": "stream",
          "name": "stdout",
          "text": [
            "enter a word: hi rohit paul\n",
            "Hhi rohit pauU\n"
          ]
        }
      ]
    },
    {
      "cell_type": "code",
      "source": [
        "#4-b) write a program to a string from user display first character of each word with capital\n",
        "a=input(\"enter a string: \")\n",
        "def cap(a):\n",
        "  a=a.title()\n",
        "  print(a)\n",
        "cap(a)"
      ],
      "metadata": {
        "colab": {
          "base_uri": "https://localhost:8080/"
        },
        "id": "cYqV7NkdEzTD",
        "outputId": "004bdab3-85a7-4d0f-fe6e-9d79075c73d5"
      },
      "execution_count": null,
      "outputs": [
        {
          "output_type": "stream",
          "name": "stdout",
          "text": [
            "enter a string: python is class\n",
            "Python Is Class\n"
          ]
        }
      ]
    },
    {
      "cell_type": "code",
      "source": [
        "#write a python program to convert a list of multiple integers in a single integer \n",
        "#input- (11,33,50)\n",
        "#output-113350\n",
        "a=[\"11\",\"33\",\"55\"]\n",
        "def combine(a):\n",
        "  for i in a:\n",
        "    print(i,end=\"\")\n",
        "combine(a)\n"
      ],
      "metadata": {
        "colab": {
          "base_uri": "https://localhost:8080/"
        },
        "id": "ukrHW5IFGAPQ",
        "outputId": "446d8135-68f1-44ca-bc9a-0ad41038f084"
      },
      "execution_count": null,
      "outputs": [
        {
          "output_type": "stream",
          "name": "stdout",
          "text": [
            "113355"
          ]
        }
      ]
    },
    {
      "cell_type": "code",
      "source": [
        "# Write a python program to find power of number with recurrsion and without recursion(n=2,p=3).\n",
        " # with recursion\n",
        "def power(N, P):\n",
        "\n",
        "\t if P == 0: \n",
        "\t\t return 1\n",
        "\n",
        "\t return (N*power(N, P-1))\n",
        "N = 2\n",
        "P = 3\n",
        "\n",
        "print(power(N, P))\n"
      ],
      "metadata": {
        "id": "jhVrtKmlOiRs",
        "colab": {
          "base_uri": "https://localhost:8080/"
        },
        "outputId": "c64f1060-f353-43ef-ea7f-f8e890ad2bfc"
      },
      "execution_count": null,
      "outputs": [
        {
          "output_type": "stream",
          "name": "stdout",
          "text": [
            "8\n"
          ]
        }
      ]
    },
    {
      "cell_type": "code",
      "source": [
        "#without recursion\n",
        "def powr(n,p):\n",
        "\n",
        "  n=3\n",
        "  p=3\n",
        "n=n**p\n",
        "print(n)\n",
        "powr(n,p)"
      ],
      "metadata": {
        "colab": {
          "base_uri": "https://localhost:8080/"
        },
        "id": "5ezTXInrtdP0",
        "outputId": "fc2aa80d-7417-4781-b763-aec69161df6f"
      },
      "execution_count": null,
      "outputs": [
        {
          "output_type": "stream",
          "name": "stdout",
          "text": [
            "8\n"
          ]
        }
      ]
    },
    {
      "cell_type": "code",
      "source": [
        "# Write a program to sort tuples by total digits.(list=[(3,4,6,723),(1,2),(2,3,4),(3,4)]\n",
        "list=[(3,4,6,723),(1,2),(2,3,4),(3,4)]\n",
        "list.sort()\n",
        "print(list)\n"
      ],
      "metadata": {
        "id": "3ll7zwbxOiwU",
        "colab": {
          "base_uri": "https://localhost:8080/"
        },
        "outputId": "ab28da70-4548-4690-c7ad-740ab6f6d420"
      },
      "execution_count": null,
      "outputs": [
        {
          "output_type": "stream",
          "name": "stdout",
          "text": [
            "[(1, 2), (2, 3, 4), (3, 4), (3, 4, 6, 723)]\n"
          ]
        }
      ]
    },
    {
      "cell_type": "code",
      "source": [
        "# Take 5 subject marks from the user and display the grade(if avg=90-100=o grade,80-89=a+,70-79=a,60....40-49=F)\n",
        "a=int(input(\"Enter the first subject marks\"))\n",
        "b=int(input(\"Enter the second subject marks\"))\n",
        "c=int(input(\"Enter the third subject marks\"))\n",
        "d=int(input(\"Enter the second subject marks\"))\n",
        "e=int(input(\"Enter the fifth subject marks\"))\n",
        "avg=a+b+c+d/5\n",
        "if (avg>=90) :\n",
        "  print(\"Your grade is O\")\n",
        "elif (avg>=80 and avg<90):\n",
        "    print(\"Your grade is A+\")\n",
        "elif (avg>=70 and avg<80 ):\n",
        "  print(\"Your grade is A\")\n",
        "elif (avg>=60 and avg<70):\n",
        "  print(\"Your grade is B+\")\n",
        "elif (avg>=50 and avg<60):\n",
        "  print(\"Your grade is B\")\n",
        "elif avg<50:\n",
        "  print(\"Your grade is F. Try again\")"
      ],
      "metadata": {
        "colab": {
          "base_uri": "https://localhost:8080/"
        },
        "id": "9Oy33ojDNbO5",
        "outputId": "837859c5-3d76-4295-b556-127e2fceb5cd"
      },
      "execution_count": null,
      "outputs": [
        {
          "output_type": "stream",
          "name": "stdout",
          "text": [
            "Enter the first subject marks45\n",
            "Enter the second subject marks67\n",
            "Enter the third subject marks69\n",
            "Enter the second subject marks69\n",
            "Enter the fifth subject marks69\n",
            "Your grade is O\n"
          ]
        }
      ]
    },
    {
      "cell_type": "code",
      "source": [
        "# Write a python program that prints '1' if all the three given numbers are in ascending order.\n",
        "n=int(input(\"enter the size of list:\"))\n",
        "a=[]\n",
        "for i in range(n):\n",
        "   b=int(input(\"enter the number:\"))\n",
        "   a.append(b)\n",
        "if a[0]<a[1]<a[-1]:\n",
        "  print(\"1\")\n",
        "else:\n",
        "  print(\"0\")   "
      ],
      "metadata": {
        "colab": {
          "base_uri": "https://localhost:8080/"
        },
        "id": "C14gJBPGKN3A",
        "outputId": "ff211515-65a2-49c8-a810-5c5e33df0abd"
      },
      "execution_count": null,
      "outputs": [
        {
          "output_type": "stream",
          "name": "stdout",
          "text": [
            "enter the size of list:3\n",
            "enter the number:12\n",
            "enter the number:23\n",
            "enter the number:43\n",
            "1\n"
          ]
        }
      ]
    },
    {
      "cell_type": "code",
      "source": [
        "# Check if the given number is perfect number or not.\n",
        "n = int(input(\"Enter any number: \"))\n",
        "sum1 = 0\n",
        "for i in range(1, n):\n",
        "    if(n % i == 0):\n",
        "        sum1 = sum1 + i\n",
        "if (sum1 == n):\n",
        "    print(\"The number is a Perfect number!\")\n",
        "else:\n",
        "    print(\"The number is not a Perfect number!\")\n"
      ],
      "metadata": {
        "id": "ptOfK49jQSdb",
        "colab": {
          "base_uri": "https://localhost:8080/"
        },
        "outputId": "ad3119af-fcd7-45dc-f73b-76c47cc75545"
      },
      "execution_count": null,
      "outputs": [
        {
          "output_type": "stream",
          "name": "stdout",
          "text": [
            "Enter any number: 787\n",
            "The number is not a Perfect number!\n"
          ]
        }
      ]
    },
    {
      "cell_type": "code",
      "source": [
        "#check whgether a given statement is palindrome or not\n",
        "n=input(\"enter a string:\")\n",
        "a=n[::-1]\n",
        "if a==n:\n",
        "  print(\"given string is a palindrome:\")\n",
        "else:\n",
        "  print(\"given string is not a palindrome\")\n"
      ],
      "metadata": {
        "colab": {
          "base_uri": "https://localhost:8080/"
        },
        "id": "-y_cW9EsHfld",
        "outputId": "a7062028-d28e-4732-fb50-490d4eb660dc"
      },
      "execution_count": null,
      "outputs": [
        {
          "output_type": "stream",
          "name": "stdout",
          "text": [
            "enter a string:rohiy\n",
            "given string is not ba palindrome\n"
          ]
        }
      ]
    },
    {
      "cell_type": "code",
      "source": [
        ""
      ],
      "metadata": {
        "id": "n_-qPH55HQt4"
      },
      "execution_count": null,
      "outputs": []
    },
    {
      "cell_type": "code",
      "source": [
        "# Find the GCD of given numbers with with and without recursion\n",
        "\n",
        "def gcd(a,b):\n",
        "\n",
        "\tif (a == 0):\n",
        "\t\treturn b\n",
        "\tif (b == 0):\n",
        "\t\treturn a\n",
        "\n",
        "\tif (a == b):\n",
        "\t\treturn a\n",
        "\n",
        "\tif (a > b):\n",
        "\t\treturn gcd(a-b, b)\n",
        "\treturn gcd(a, b-a)\n",
        "\n",
        "a =int(input(\"enter a:\"))\n",
        "b = int(input(\"enter b: \"))\n",
        "if(gcd(a, b)):\n",
        "\tprint('GCD of', a, 'and', b, 'is', gcd(a, b))\n",
        "else:\n",
        "\tprint('not found')\n",
        "\n"
      ],
      "metadata": {
        "id": "7p4kRXQgQwtD",
        "colab": {
          "base_uri": "https://localhost:8080/"
        },
        "outputId": "b27106fb-3465-4863-d903-876b5fe925c0"
      },
      "execution_count": null,
      "outputs": [
        {
          "output_type": "stream",
          "name": "stdout",
          "text": [
            "enter a:45\n",
            "enter b: 78\n",
            "GCD of 45 and 78 is 3\n"
          ]
        }
      ]
    },
    {
      "cell_type": "code",
      "source": [
        "#without recursion\n",
        "# Python program to find H.C.F of two numbers without recursion\n",
        "\n",
        "def compute_hcf(x, y):\n",
        "\n",
        "\n",
        "    if x > y:\n",
        "        smaller = y\n",
        "    else:\n",
        "        smaller = x\n",
        "    for i in range(1, smaller+1):\n",
        "        if((x % i == 0) and (y % i == 0)):\n",
        "            hcf = i \n",
        "    return hcf\n",
        "\n",
        "num1 = 54 \n",
        "num2 = 24\n",
        "\n",
        "print(\"The H.C.F. is\", compute_hcf(num1, num2))\n"
      ],
      "metadata": {
        "id": "wvkKNiYkPT__"
      },
      "execution_count": null,
      "outputs": []
    },
    {
      "cell_type": "code",
      "source": [
        "# Print sum of even digits (1234=2+4)\n"
      ],
      "metadata": {
        "id": "PWBhxWG3Qwz5"
      },
      "execution_count": null,
      "outputs": []
    },
    {
      "cell_type": "code",
      "source": [
        "# Calculate the product of digits of a number.\n",
        "\n",
        "def getProduct(n):\n",
        "\n",
        "\tproduct = 1\n",
        "\n",
        "\twhile (n != 0):\n",
        "\t\tproduct = product * (n % 10)\n",
        "\t\tn = n // 10\n",
        "\n",
        "\treturn product\n",
        "\n",
        "n = int(input(\"enter a num: \"))\n",
        "print(getProduct(n))\n",
        "\n"
      ],
      "metadata": {
        "id": "F6xxuT2MQw8K",
        "colab": {
          "base_uri": "https://localhost:8080/"
        },
        "outputId": "424e423b-d841-4b95-b339-a572b0ac0611"
      },
      "execution_count": null,
      "outputs": [
        {
          "output_type": "stream",
          "name": "stdout",
          "text": [
            "enter a num: 78\n",
            "56\n"
          ]
        }
      ]
    },
    {
      "cell_type": "code",
      "source": [
        "# Calculate the sum of sqaures of digits of a numbers given \n",
        "print(\"Enter a Number: \")\n",
        "num = int(input())\n",
        "\n",
        "sum = 0\n",
        "while num!=0:\n",
        "    rem = num%10\n",
        "    sqr = rem*rem\n",
        "    sum = sum+sqr\n",
        "    num = int(num/10)\n",
        "\n",
        "print(\"\\nSum of squares of digits of given number is: \")\n",
        "print(sum)"
      ],
      "metadata": {
        "id": "RtzuHwxjQxCK",
        "colab": {
          "base_uri": "https://localhost:8080/"
        },
        "outputId": "21ffd8c9-f856-42ed-9d51-d96b130a0fb4"
      },
      "execution_count": null,
      "outputs": [
        {
          "output_type": "stream",
          "name": "stdout",
          "text": [
            "Enter a Number: \n",
            "676\n",
            "\n",
            "Sum of squares of digits of given number is: \n",
            "121\n"
          ]
        }
      ]
    },
    {
      "cell_type": "code",
      "source": [
        "# Print number of vowels and constants in a given string.\n",
        "str=input(\"Please enter a string as you wish: \");\n",
        "vowels=0\n",
        "consonants=0\n",
        "for i in str:\n",
        "    if(i == 'a'or i == 'e'or i == 'i'or i == 'o'or i == 'u' or\n",
        "       i == 'A'or i == 'E'or i == 'I'or i == 'O'or i == 'U' ):\n",
        "           vowels=vowels+1;\n",
        "    else:\n",
        "        consonants=consonants+1;\n",
        "\n",
        "print(\"The number of vowels:\",vowels);\n",
        "print(\"The number of consonant:\",consonants)"
      ],
      "metadata": {
        "id": "qsRWdvAeRJhk",
        "colab": {
          "base_uri": "https://localhost:8080/"
        },
        "outputId": "88919d98-ce26-43fb-ac6a-3c10251770a1"
      },
      "execution_count": null,
      "outputs": [
        {
          "output_type": "stream",
          "name": "stdout",
          "text": [
            "Please enter a string as you wish:  hi I am Rohit \n",
            "The number of vowels: 5\n",
            "The number of consonant: 10\n"
          ]
        }
      ]
    },
    {
      "cell_type": "code",
      "source": [
        "# Given two integers A and B if A<B print all numbers in asscending order if A>B print in descending order\n",
        "a=int(input(\"enter the size:\"))\n",
        "a[ ]\n",
        "for i in range(n):\n",
        "  b=int(input(\"enter num: \"))\n",
        "  a.append(b)\n",
        "  if a[0]<a[-1]:\n",
        "    a.sort()\n",
        "  else:\n",
        "      a.sort(reverse=True)\n",
        "      print(a)"
      ],
      "metadata": {
        "id": "BbbKdPpdRzVa"
      },
      "execution_count": null,
      "outputs": []
    },
    {
      "cell_type": "code",
      "source": [
        "# Program to print largest number out of three numbers.\n",
        "a=int(input(\"enter a num: \"))\n",
        "b=int(input(\"enter a num: \"))\n",
        "c=int(input(\"enter a num: \"))\n",
        "def greatest():\n",
        "\n",
        "  if a>b and a>c:\n",
        "    print('The largest among the given numbers is a',a)\n",
        "  elif b>a and b>c:\n",
        "    print('The largest among the given numbers is b',b)\n",
        "  else:\n",
        "    print('The largest among the given numbers is c',c)\n",
        "greatest()\n",
        "\n"
      ],
      "metadata": {
        "id": "-7YdcN82RzwJ",
        "colab": {
          "base_uri": "https://localhost:8080/"
        },
        "outputId": "f901d498-eedf-4db7-fbf7-52d8a53dc0b2"
      },
      "execution_count": null,
      "outputs": [
        {
          "output_type": "stream",
          "name": "stdout",
          "text": [
            "enter a num: 2\n",
            "enter a num: 5\n",
            "enter a num: 3\n",
            "The largest among the given numbers is b 5\n"
          ]
        }
      ]
    },
    {
      "cell_type": "code",
      "source": [
        "# Write a program to find the number of strings where the string length is two or more and the first and last characters of a string is same.\n",
        "def match_1(words):\n",
        "  ctr = 0\n",
        "\n",
        "  for word in words:\n",
        "    if len(word) > 1 and word[0] == word[-1]:\n",
        "      ctr += 1\n",
        "  return ctr\n",
        "\n",
        "print(match_1(['abc', 'xyz', 'aba', '1221']))"
      ],
      "metadata": {
        "id": "ywGxAcphRzyw"
      },
      "execution_count": null,
      "outputs": []
    },
    {
      "cell_type": "code",
      "source": [
        "# Take the input from the user as number of days , number of roubds completed calculate the total distance he covered in metres.(if dis< 40000m = need to run more else good job.)\n",
        "a=int(input(\"enter no of days:\"))\n",
        "b=int(input(\"enter no of rounds completed\"))\n",
        "def walk(a,b):\n",
        "  d=a*b*6000\n",
        "if d >=40000:\n",
        "    print(\"all the best\")\n",
        "else:\n",
        "    print(\"walk moree!!\")\n",
        "    walk(a,b)"
      ],
      "metadata": {
        "id": "vi9l5HuzR4yC"
      },
      "execution_count": null,
      "outputs": []
    },
    {
      "cell_type": "code",
      "source": [
        "#given a range 4 print 1223334444\n",
        "n=int(input(\"enter a range of number:\"))\n",
        "for i in range(1,n+1):\n",
        "  for a in range](i):\n",
        "    print(i,end=\"\")"
      ],
      "metadata": {
        "colab": {
          "base_uri": "https://localhost:8080/"
        },
        "id": "l3dvg6y1VkDJ",
        "outputId": "d8aaa72f-3f0c-483b-9f30-f0406e7d2092"
      },
      "execution_count": null,
      "outputs": [
        {
          "output_type": "stream",
          "name": "stdout",
          "text": [
            "enter a range of number:4\n",
            "1223334444"
          ]
        }
      ]
    }
  ]
}