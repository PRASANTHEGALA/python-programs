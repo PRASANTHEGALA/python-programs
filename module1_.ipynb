{
  "cells": [
    {
      "cell_type": "markdown",
      "metadata": {
        "id": "view-in-github",
        "colab_type": "text"
      },
      "source": [
        "<a href=\"https://colab.research.google.com/github/PRASANTHEGALA/python-programs/blob/main/module1_.ipynb\" target=\"_parent\"><img src=\"https://colab.research.google.com/assets/colab-badge.svg\" alt=\"Open In Colab\"/></a>"
      ]
    },
    {
      "cell_type": "markdown",
      "id": "f49f1a88",
      "metadata": {
        "id": "f49f1a88"
      },
      "source": [
        "## converting int to string,float,boolean,complex."
      ]
    },
    {
      "cell_type": "code",
      "execution_count": null,
      "id": "2a76eb13",
      "metadata": {
        "id": "2a76eb13",
        "outputId": "4a36059f-97e8-43cd-e697-40d44436eefc"
      },
      "outputs": [
        {
          "name": "stdout",
          "output_type": "stream",
          "text": [
            "10\n",
            "<class 'int'>\n",
            "10\n",
            "<class 'str'>\n",
            "10.0\n",
            "<class 'float'>\n",
            "True\n",
            "<class 'bool'>\n",
            "10\n",
            "(10+0j)\n",
            "<class 'complex'>\n"
          ]
        }
      ],
      "source": [
        "a=10\n",
        "print(a)\n",
        "#before conversion\n",
        "print(type(a))\n",
        "b=str(a)\n",
        "#after convesion\n",
        "print(b)\n",
        "print(type(b))\n",
        "c=float(a)\n",
        "print(c)\n",
        "print(type(c))\n",
        "d=bool(a)\n",
        "print(d)\n",
        "print(type(d))## converting int to string,float,boolean,complex\n",
        "e=complex(a)\n",
        "print(a)\n",
        "print(e)\n",
        "print(type(e))\n"
      ]
    },
    {
      "cell_type": "markdown",
      "id": "34fb19e2",
      "metadata": {
        "id": "34fb19e2"
      },
      "source": [
        "## converting string to int,float,boolean,complex."
      ]
    },
    {
      "cell_type": "code",
      "execution_count": null,
      "id": "00533d67",
      "metadata": {
        "id": "00533d67",
        "outputId": "a8b83ae8-9593-4173-dee4-f18b35fe31a5"
      },
      "outputs": [
        {
          "name": "stdout",
          "output_type": "stream",
          "text": [
            "10\n",
            "<class 'str'>\n",
            "10\n",
            "<class 'int'>\n",
            "ten\n",
            "<class 'str'>\n",
            "10.0\n",
            "<class 'float'>\n",
            "True\n",
            "<class 'bool'>\n",
            "(10+0j)\n",
            "<class 'complex'>\n"
          ]
        }
      ],
      "source": [
        "a='10'\n",
        "print(a)\n",
        "print(type(a))\n",
        "b=int(a)\n",
        "print(b)\n",
        "print(type(b))\n",
        "c='ten'\n",
        "print(c)\n",
        "print(type(c))\n",
        "#d=int(c)\n",
        "#print(d)\n",
        "#print(type(d))\n",
        "#cannot convert alphabet into integers only digits\n",
        "#give only digits instead of alphabets\n",
        "e=float(a)\n",
        "print(e)\n",
        "print(type(e))\n",
        "f=bool(a)\n",
        "print(f)\n",
        "print(type(f))\n",
        "g=complex(a)\n",
        "print(g)\n",
        "print(type(g))\n"
      ]
    },
    {
      "cell_type": "markdown",
      "id": "3da58010",
      "metadata": {
        "id": "3da58010"
      },
      "source": [
        "## converting float to int,string,boolean,complex."
      ]
    },
    {
      "cell_type": "code",
      "execution_count": null,
      "id": "9801a1fb",
      "metadata": {
        "id": "9801a1fb",
        "outputId": "57a669cd-19ef-44ab-b014-a732e6e0874b"
      },
      "outputs": [
        {
          "name": "stdout",
          "output_type": "stream",
          "text": [
            "10.0\n",
            "<class 'float'>\n",
            "10\n",
            "<class 'int'>\n",
            "10.0\n",
            "<class 'str'>\n",
            "<class 'bool'>\n",
            "(10+0j)\n",
            "<class 'complex'>\n"
          ]
        }
      ],
      "source": [
        "a=float(10)\n",
        "print(a)\n",
        "print(type(a))\n",
        "b=int(a)\n",
        "print(b)\n",
        "print(type(b))\n",
        "c=str(a)\n",
        "print(c)\n",
        "print(type(c))\n",
        "d=bool(a)\n",
        "print(type(d))\n",
        "e=complex(a)\n",
        "print(e)\n",
        "print(type(e))"
      ]
    },
    {
      "cell_type": "markdown",
      "id": "8fba0bb7",
      "metadata": {
        "id": "8fba0bb7"
      },
      "source": [
        "## converting boolean to int,string,float,complex."
      ]
    },
    {
      "cell_type": "code",
      "execution_count": null,
      "id": "1d15ac86",
      "metadata": {
        "id": "1d15ac86",
        "outputId": "4450873a-612c-4017-b9e9-195a4006a351"
      },
      "outputs": [
        {
          "name": "stdout",
          "output_type": "stream",
          "text": [
            "True\n",
            "<class 'bool'>\n",
            "1\n",
            "<class 'int'>\n",
            "1.0\n",
            "<class 'float'>\n",
            "True\n",
            "<class 'str'>\n",
            "(1+0j)\n",
            "<class 'complex'>\n"
          ]
        }
      ],
      "source": [
        "\n",
        "a=bool(10)\n",
        "print(a)\n",
        "print(type(a))\n",
        "b=int(a)\n",
        "print(b)\n",
        "print(type(b))\n",
        "c=float(a)\n",
        "print(c)\n",
        "print(type(c))\n",
        "d=str(a)\n",
        "print(d)\n",
        "print(type(d))\n",
        "e=complex(a)\n",
        "print(e)\n",
        "print(type(e))\n",
        "\n",
        "\n",
        "\n"
      ]
    },
    {
      "cell_type": "markdown",
      "id": "2214532f",
      "metadata": {
        "id": "2214532f"
      },
      "source": [
        "\n"
      ]
    },
    {
      "cell_type": "markdown",
      "id": "92962692",
      "metadata": {
        "id": "92962692"
      },
      "source": [
        ""
      ]
    },
    {
      "cell_type": "markdown",
      "id": "239562b0",
      "metadata": {
        "id": "239562b0"
      },
      "source": [
        ""
      ]
    },
    {
      "cell_type": "markdown",
      "id": "c405e35b",
      "metadata": {
        "id": "c405e35b"
      },
      "source": [
        "## converting complex to int,string,float,boolean.\n",
        "\n",
        "a=complex(10)\n",
        "print(a)\n",
        "print(type(a))\n",
        "#b=int(a)\n",
        "#print(b)\n",
        "#print(type(b))\n",
        "c=float(a)\n",
        "print(c)\n",
        "print(type(c))\n",
        "d=bool(a)\n",
        "print(d)\n",
        "print(type(d))\n",
        "e=str(a)\n",
        "print(e)\n",
        "print(type(e))"
      ]
    },
    {
      "cell_type": "code",
      "execution_count": null,
      "id": "5959ae2d",
      "metadata": {
        "id": "5959ae2d"
      },
      "outputs": [],
      "source": [
        ""
      ]
    }
  ],
  "metadata": {
    "kernelspec": {
      "display_name": "Python 3 (ipykernel)",
      "language": "python",
      "name": "python3"
    },
    "language_info": {
      "codemirror_mode": {
        "name": "ipython",
        "version": 3
      },
      "file_extension": ".py",
      "mimetype": "text/x-python",
      "name": "python",
      "nbconvert_exporter": "python",
      "pygments_lexer": "ipython3",
      "version": "3.10.2"
    },
    "colab": {
      "name": "module1 .ipynb",
      "provenance": [],
      "include_colab_link": true
    }
  },
  "nbformat": 4,
  "nbformat_minor": 5
}