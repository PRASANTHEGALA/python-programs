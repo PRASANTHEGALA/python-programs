{
 "cells": [
  {
   "cell_type": "code",
   "execution_count": 4,
   "id": "22ecfa2b",
   "metadata": {},
   "outputs": [
    {
     "name": "stdout",
     "output_type": "stream",
     "text": [
      "  chocolates  customer_ratings\n",
      "0   hersheys                50\n",
      "1  toblerone                40\n",
      "2       twix                45\n"
     ]
    }
   ],
   "source": [
    "import pandas as prasanth\n",
    "\n",
    "data = {\n",
    "  \"chocolates\": [\"hersheys\", \"toblerone\", \"twix\"],\n",
    "  \"customer_ratings\": [50, 40, 45]\n",
    "}\n",
    "\n",
    "df = prasanth.DataFrame(data)\n",
    "\n",
    "print(df)"
   ]
  },
  {
   "cell_type": "code",
   "execution_count": 7,
   "id": "30ab73b3",
   "metadata": {},
   "outputs": [
    {
     "name": "stdout",
     "output_type": "stream",
     "text": [
      "  students_names Student_gender  Student_roll_no.\n",
      "0       Prasanth           Male                12\n",
      "1       Vashista           Male                81\n",
      "2         Madhav         female                54\n"
     ]
    }
   ],
   "source": [
    "import pandas as studentdata\n",
    "\n",
    "data={\n",
    "    \"students_names\":[\"Prasanth\",\"Vashista\",\"Madhav\"],\n",
    "    \"Student_gender\":[\"Male\",\"Male\",\"female\"],\n",
    "    \"Student_roll_no.\":[12,81,54]\n",
    "}\n",
    "df=studentdata.DataFrame(data)\n",
    "print(df)"
   ]
  },
  {
   "cell_type": "code",
   "execution_count": null,
   "id": "a5241a19",
   "metadata": {},
   "outputs": [],
   "source": []
  },
  {
   "cell_type": "code",
   "execution_count": 11,
   "id": "3c6e44f8",
   "metadata": {},
   "outputs": [
    {
     "name": "stdout",
     "output_type": "stream",
     "text": [
      "0    12\n",
      "1    17\n",
      "2    22\n",
      "dtype: int64\n"
     ]
    }
   ],
   "source": [
    "import pandas as prash\n",
    "\n",
    "a = [12, 17, 22]\n",
    "\n",
    "myvar = prash.Series(a)\n",
    "\n",
    "print(myvar)"
   ]
  },
  {
   "cell_type": "code",
   "execution_count": 24,
   "id": "672a037b",
   "metadata": {},
   "outputs": [
    {
     "name": "stdout",
     "output_type": "stream",
     "text": [
      "vasi      12\n",
      "paul      27\n",
      "madhav    52\n",
      "dtype: int64\n"
     ]
    }
   ],
   "source": [
    "import pandas as prash\n",
    "\n",
    "a = [12, 27, 52]\n",
    "\n",
    "data = prash.Series(a, index = [\"vasi\", \"paul\", \"madhav\"])\n",
    "\n",
    "print(data)"
   ]
  },
  {
   "cell_type": "code",
   "execution_count": 23,
   "id": "25f5c797",
   "metadata": {},
   "outputs": [
    {
     "name": "stdout",
     "output_type": "stream",
     "text": [
      "3WORDS    get\n",
      "3WORDS    set\n",
      "2WORDS     go\n",
      "dtype: object\n"
     ]
    }
   ],
   "source": [
    "import pandas as vasi\n",
    "dabulu_lev=[\"get\",\"set\",\"go\"]\n",
    "data=vasi.Series(dabulu_lev, index=[\"3WORDS\",\"3WORDS\",\"2WORDS\"])\n",
    "print(data)"
   ]
  },
  {
   "cell_type": "code",
   "execution_count": 22,
   "id": "b7dadeec",
   "metadata": {},
   "outputs": [
    {
     "name": "stdout",
     "output_type": "stream",
     "text": [
      "1st day     550.69\n",
      "2nd day     600.70\n",
      "3rd day    1200.89\n",
      "dtype: float64\n"
     ]
    }
   ],
   "source": [
    "import pandas as kgf\n",
    "collections={\"1st day\": 550.69, \"2nd day\":600.70,\"3rd day\":1200.89}\n",
    "movie=kgf.Series(collections)\n",
    "print(movie)"
   ]
  },
  {
   "cell_type": "code",
   "execution_count": null,
   "id": "f94ad149",
   "metadata": {},
   "outputs": [],
   "source": []
  },
  {
   "cell_type": "code",
   "execution_count": null,
   "id": "dfc4133f",
   "metadata": {},
   "outputs": [],
   "source": []
  }
 ],
 "metadata": {
  "kernelspec": {
   "display_name": "Python 3 (ipykernel)",
   "language": "python",
   "name": "python3"
  },
  "language_info": {
   "codemirror_mode": {
    "name": "ipython",
    "version": 3
   },
   "file_extension": ".py",
   "mimetype": "text/x-python",
   "name": "python",
   "nbconvert_exporter": "python",
   "pygments_lexer": "ipython3",
   "version": "3.9.7"
  }
 },
 "nbformat": 4,
 "nbformat_minor": 5
}
