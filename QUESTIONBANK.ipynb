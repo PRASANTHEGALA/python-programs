{
  "nbformat": 4,
  "nbformat_minor": 0,
  "metadata": {
    "colab": {
      "name": "QUESTIONBANK.ipynb",
      "provenance": [],
      "authorship_tag": "ABX9TyP6ff158NXhFmxAcApzwJPq",
      "include_colab_link": true
    },
    "kernelspec": {
      "name": "python3",
      "display_name": "Python 3"
    },
    "language_info": {
      "name": "python"
    }
  },
  "cells": [
    {
      "cell_type": "markdown",
      "metadata": {
        "id": "view-in-github",
        "colab_type": "text"
      },
      "source": [
        "<a href=\"https://colab.research.google.com/github/PRASANTHEGALA/python-programs/blob/main/QUESTIONBANK.ipynb\" target=\"_parent\"><img src=\"https://colab.research.google.com/assets/colab-badge.svg\" alt=\"Open In Colab\"/></a>"
      ]
    },
    {
      "cell_type": "code",
      "execution_count": null,
      "metadata": {
        "id": "8nVJEt2OaRRP"
      },
      "outputs": [],
      "source": [
        "#Write a program to print a prime number in a given range using function (25,50).\n",
        "#Write a program to read any month in integer and display days for that month.\n",
        "#Write a python program to print even length words in a string.\n",
        "#Write a python program to capitalize the first letter and last letter of each word."
      ]
    },
    {
      "cell_type": "code",
      "source": [
        "def count_digs(tup):   \n",
        "    return sum([len(str(ele)) for ele in tup ])\n",
        "list = [(3,4,6,723),(1,2),(134,234,34)]\n",
        "print(\"The original list is : \" + str(list))\n",
        "list.sort(key = count_digs)\n",
        "print(\"Sorted tuples : \" + str(list))\n",
        "\n",
        "\n"
      ],
      "metadata": {
        "colab": {
          "base_uri": "https://localhost:8080/"
        },
        "id": "oegjfdCr_ifA",
        "outputId": "77378729-97e6-4703-f675-c947e7edc4f8"
      },
      "execution_count": null,
      "outputs": [
        {
          "output_type": "stream",
          "name": "stdout",
          "text": [
            "The original list is : [(3, 4, 6, 723), (1, 2), (134, 234, 34)]\n",
            "Sorted tuples : [(1, 2), (3, 4, 6, 723), (134, 234, 34)]\n"
          ]
        }
      ]
    },
    {
      "cell_type": "code",
      "source": [
        "#Write a program to read a string from user, display first character of each word with capital letter.\n",
        "#Write a python program to convert a list of multiple intergers into a single integer.(11,33,55-1133355)"
      ],
      "metadata": {
        "id": "q0DWZeuvb2d9"
      },
      "execution_count": null,
      "outputs": []
    },
    {
      "cell_type": "code",
      "source": [
        "#Write a program to print a prime number in a given range using function (25,50).\n",
        "def prime(a,b):\n",
        "  for i in range(a,b+1):\n",
        "     k=0\n",
        "     for j in range(2,i):\n",
        "        if i%j==0:\n",
        "         k+=1\n",
        "     if k==0:\n",
        "          print(i)\n",
        "prime(25,50)"
      ],
      "metadata": {
        "id": "-8q4xessdppq",
        "colab": {
          "base_uri": "https://localhost:8080/"
        },
        "outputId": "801b9fcf-59ce-4cea-d349-6adbf68b2624"
      },
      "execution_count": null,
      "outputs": [
        {
          "output_type": "stream",
          "name": "stdout",
          "text": [
            "29\n",
            "31\n",
            "37\n",
            "41\n",
            "43\n",
            "47\n"
          ]
        }
      ]
    },
    {
      "cell_type": "code",
      "source": [
        "def print_month_name(x):\n",
        "     if (x==1,3,5,7,8,10,12):\n",
        "       print(\"\")\n",
        " \n",
        "month = int(input(\"Enter the month number: \"))\n",
        "print_month_name(month)"
      ],
      "metadata": {
        "id": "wnrxHbCxgPsx"
      },
      "execution_count": null,
      "outputs": []
    },
    {
      "cell_type": "code",
      "source": [
        "a=int(input(\"Enter marks of the first subject:\"))\n",
        "b=int(input(\"Enter marks of the second subject: \"))\n",
        "c=int(input(\"Enter marks of the third subject: \"))\n",
        "d=int(input(\"Enter marks of the fourth subject: \"))\n",
        "e=int(input(\"Enter marks of the fifth subject: \"))\n",
        "avg=(a+b+c+d+e)/5\n",
        "if(avg>=90):\n",
        "    print(\"Grade: A+\")\n",
        "elif(avg>=80 and avg<90):\n",
        "    print(\"Grade: A\")\n",
        "elif(avg>=70 and avg<80):\n",
        "    print(\"Grade: B\")\n",
        "elif(avg>=60 and avg<70):\n",
        "    print(\"Grade: C\")\n",
        "else:\n",
        "    print(\"Grade: F\")"
      ],
      "metadata": {
        "colab": {
          "base_uri": "https://localhost:8080/"
        },
        "id": "ZdQVeCcVANCt",
        "outputId": "6cb09c30-5592-4e5b-893c-e29208663cdb"
      },
      "execution_count": null,
      "outputs": [
        {
          "output_type": "stream",
          "name": "stdout",
          "text": [
            "Enter marks of the first subject:46\n",
            "Enter marks of the second subject: 34\n",
            "Enter marks of the third subject: 78\n",
            "Enter marks of the fourth subject: 24\n",
            "Enter marks of the fifth subject: 77\n",
            "Grade: F\n"
          ]
        }
      ]
    },
    {
      "cell_type": "code",
      "source": [
        "a=int(input(\"Enter first number\"))\n",
        "b=int(input(\"Enter second number\"))\n",
        "c=int(input(\"Enter third number\"))\n",
        "if a<b<c:\n",
        "  print(\"1\")\n",
        "else:\n",
        "  print(\"invalid\")"
      ],
      "metadata": {
        "colab": {
          "base_uri": "https://localhost:8080/"
        },
        "id": "oQ2V0mVRCKz9",
        "outputId": "5b9bbd7e-5aa8-48cc-868b-05b86f1122e6"
      },
      "execution_count": null,
      "outputs": [
        {
          "output_type": "stream",
          "name": "stdout",
          "text": [
            "Enter first number56\n",
            "Enter second number23\n",
            "Enter third number647\n",
            "invalid\n"
          ]
        }
      ]
    },
    {
      "cell_type": "code",
      "source": [
        "#check given number is perfect number or not\n",
        "n = int(input(\"Enter any number: \"))\n",
        "sum1 = 0\n",
        "for i in range(1, n):\n",
        "    if(n % i == 0):\n",
        "        sum1 = sum1 + i\n",
        "if (sum1 == n):\n",
        "    print(\"The number is a Perfect number!\")\n",
        "else:\n",
        "    print(\"The number is not a Perfect number!\")"
      ],
      "metadata": {
        "colab": {
          "base_uri": "https://localhost:8080/"
        },
        "id": "scooPc0ZDZVA",
        "outputId": "ec777537-f031-4340-cbf7-35cdc94b4699"
      },
      "execution_count": null,
      "outputs": [
        {
          "output_type": "stream",
          "name": "stdout",
          "text": [
            "Enter any number: 345\n",
            "The number is not a Perfect number!\n"
          ]
        }
      ]
    },
    {
      "cell_type": "code",
      "source": [
        "#check given number is a strong number or not\n",
        "sum1=0\n",
        "num=int(input(\"Enter a number:\"))\n",
        "temp=num\n",
        "while(num):\n",
        "    i=1\n",
        "    f=1\n",
        "    r=num%10\n",
        "    while(i<=r):\n",
        "        f=f*i\n",
        "        i=i+1\n",
        "    sum1=sum1+f\n",
        "    num=num//10\n",
        "if(sum1==temp):\n",
        "    print(\"The number is a strong number\")\n",
        "else:\n",
        "    print(\"The number is not a strong number\")"
      ],
      "metadata": {
        "colab": {
          "base_uri": "https://localhost:8080/"
        },
        "id": "k6t2sEjjLIBW",
        "outputId": "aafffa4b-0d1d-4203-9ee6-41ca2d0ebb20"
      },
      "execution_count": null,
      "outputs": [
        {
          "output_type": "stream",
          "name": "stdout",
          "text": [
            "Enter a number:567\n",
            "The number is not a strong number\n"
          ]
        }
      ]
    },
    {
      "cell_type": "code",
      "source": [
        "#find the gcd of two numbers with recursion\n",
        "a=int(input(\"enter first number:\"))\n",
        "b=int(input(\"enter second number:\"))\n",
        "def gcd(a,b):\n",
        "  if (b==0):\n",
        "    return a\n",
        "  else:\n",
        "    return gcd(b,a%b)\n",
        "print(\"GCD is\",gcd(a,b))"
      ],
      "metadata": {
        "colab": {
          "base_uri": "https://localhost:8080/"
        },
        "id": "lfYGoXF3QoYs",
        "outputId": "047d8c13-1d44-4079-d754-13e3af2523a9"
      },
      "execution_count": null,
      "outputs": [
        {
          "output_type": "stream",
          "name": "stdout",
          "text": [
            "enter first number:59\n",
            "enter second number:35\n",
            "GCD is 1\n"
          ]
        }
      ]
    },
    {
      "cell_type": "code",
      "source": [
        "#calculate the product of digits of a number given by user\n",
        "def product(a,b):\n",
        "  if a>b:\n",
        "    return product(b,a)\n",
        "  elif b!=0:\n",
        "    return (a+product(a,b-1))\n",
        "  else:\n",
        "    return 0\n",
        "a=(int(input(\"enter first number:\")))\n",
        "b=(int(input(\"enter second number:\")))\n",
        "\n",
        "print(\"Product is\",product(a,b))"
      ],
      "metadata": {
        "colab": {
          "base_uri": "https://localhost:8080/"
        },
        "id": "geNADxkAQzhs",
        "outputId": "a3c4219b-4cb5-4461-f1ed-9e4ec851aafb"
      },
      "execution_count": null,
      "outputs": [
        {
          "output_type": "stream",
          "name": "stdout",
          "text": [
            "enter first number:56\n",
            "enter second number:34\n",
            "Product is 1904\n"
          ]
        }
      ]
    },
    {
      "cell_type": "code",
      "source": [
        "#calculate the sum of squares of digits of a number given by user\n",
        "n=int(input(\"enter a number:\"))\n",
        "def square(n):\n",
        "  sum=0\n",
        "  while(n>0):\n",
        "    rem=n%10\n",
        "    sqr=rem*rem\n",
        "    sum=sum+sqr\n",
        "    n=n//10\n",
        "  print(\"sum of squares of number is:\",sum)\n",
        "square(n)"
      ],
      "metadata": {
        "colab": {
          "base_uri": "https://localhost:8080/"
        },
        "id": "6_x9a5QLQ53o",
        "outputId": "4801e3be-981a-49cf-9f97-dc5873d0b45c"
      },
      "execution_count": null,
      "outputs": [
        {
          "output_type": "stream",
          "name": "stdout",
          "text": [
            "enter a number:7\n",
            "sum of squares of number is: 49\n"
          ]
        }
      ]
    },
    {
      "cell_type": "code",
      "source": [
        "#given an integer n,return a list containing 1223334444\n",
        "n=int(input(\"enter the range of number:\"))\n",
        "def repeat(n):\n",
        "  for i in range(1,n+1):\n",
        "    for a in range(i):\n",
        "      print(i,end=\"\")\n",
        "repeat(n)"
      ],
      "metadata": {
        "colab": {
          "base_uri": "https://localhost:8080/"
        },
        "id": "qMcEBJ_7Q9PN",
        "outputId": "bb2ad303-41fc-449a-efad-1b9dbb6f3675"
      },
      "execution_count": null,
      "outputs": [
        {
          "output_type": "stream",
          "name": "stdout",
          "text": [
            "enter the range of number:5\n",
            "122333444455555"
          ]
        }
      ]
    },
    {
      "cell_type": "code",
      "source": [
        "#print no.of vowels and consonants in a given string\n",
        "n=input(\"enter a string:\")\n",
        "def vowelandconsonant(n):\n",
        "  vowel=0\n",
        "  consonant=0\n",
        "  for i in (n):\n",
        "    if (i ==\"A\" or  i ==\"E\" or  i ==\"I\" or  i ==\"O\" or  i ==\"U\" or\n",
        "       i ==\"a\" or i ==\"e\" or i ==\"i\" or  i ==\"o\" or i ==\"u\" ):\n",
        "      vowel=vowel+1\n",
        "    else:\n",
        "      consonant=consonant+1\n",
        "  print(\"The number of vowels are:\",vowel)\n",
        "  print(\"The number of consonants are:\",consonant)\n",
        "vowelandconsonant(n)"
      ],
      "metadata": {
        "colab": {
          "base_uri": "https://localhost:8080/"
        },
        "id": "iLYnUBJPQ-Ph",
        "outputId": "242eff75-ba4c-4af1-b497-84b27a02e302"
      },
      "execution_count": null,
      "outputs": [
        {
          "output_type": "stream",
          "name": "stdout",
          "text": [
            "enter a string:Vasishta is the king\n",
            "The number of vowels are: 6\n",
            "The number of consonants are: 14\n"
          ]
        }
      ]
    },
    {
      "cell_type": "code",
      "source": [
        "\n",
        "#given two integers A and B.If A<B print all numbers in ascending order else print in descending order\n",
        "n=int(input(\"enter size of list:\"))\n",
        "a=[]\n",
        "for i in range(n):\n",
        "  b=int(input(\"enter the number:\"))\n",
        "  a.append(b)\n",
        "if a[0]<a[-1]:\n",
        "  a.sort()\n",
        "else:\n",
        "  a.sort(reverse=True)\n",
        "print(a)"
      ],
      "metadata": {
        "colab": {
          "base_uri": "https://localhost:8080/"
        },
        "id": "DAazB7foREBv",
        "outputId": "bc85cbdc-115d-41b9-a7ed-39f2a2e6dc14"
      },
      "execution_count": null,
      "outputs": [
        {
          "output_type": "stream",
          "name": "stdout",
          "text": [
            "enter size of list:4\n",
            "enter the number:6\n",
            "enter the number:7\n",
            "enter the number:8\n",
            "enter the number:8\n",
            "[6, 7, 8, 8]\n"
          ]
        }
      ]
    },
    {
      "cell_type": "code",
      "source": [
        "#program to print largest value among 3 numbers\n",
        "a=int(input(\"enter first number:\"))\n",
        "b=int(input(\"enter second number:\"))\n",
        "c=int(input(\"enter third number:\"))\n",
        "def largest(a,b,c):\n",
        "\n",
        "  if a>b and a>c:\n",
        "    print(\"largest among three numbers is:\",a)\n",
        "  elif b>a and b>c:\n",
        "    print(\"largest among three numbers is:\",b)\n",
        "  else:\n",
        "    print(\"largest among three numbers is:\",c)\n",
        "largest(a,b,c)"
      ],
      "metadata": {
        "colab": {
          "base_uri": "https://localhost:8080/"
        },
        "id": "HsYj0J5DRHBs",
        "outputId": "fe552026-c623-4c51-bfc0-d2ed0d5dea0d"
      },
      "execution_count": null,
      "outputs": [
        {
          "output_type": "stream",
          "name": "stdout",
          "text": [
            "enter first number:3545\n",
            "enter second number:776\n",
            "enter third number:2453\n",
            "largest among three numbers is: 3545\n"
          ]
        }
      ]
    },
    {
      "cell_type": "code",
      "source": [
        "#There is a walking track of 3km.Roundtrip of walking track means 3+3=6km.take input from the user as no.of days,no.of round trips completed in a day.calculate the total distance covered in meters.give a messege as:\"Need to walk more\"if the distance is more than 40000 meters.Give a messege as \"good luck\"\n",
        "a=int(input(\"Enter no.of days:\"))\n",
        "b=int(input(\"Enter no.of round trips completed in a day(in km):\"))\n",
        "def Walking(a,b):\n",
        "  d=a*b*6000\n",
        "  if d>=40000:\n",
        "    print(\"good luck\")\n",
        "  else:\n",
        "    print('need to walk more')\n",
        "Walking(a,b)"
      ],
      "metadata": {
        "colab": {
          "base_uri": "https://localhost:8080/"
        },
        "id": "RRxA_cCMRPhJ",
        "outputId": "cba4f746-893e-4bd6-eaa4-d1b94f9e5203"
      },
      "execution_count": null,
      "outputs": [
        {
          "output_type": "stream",
          "name": "stdout",
          "text": [
            "Enter no.of days:46\n",
            "Enter no.of round trips completed in a day(in km):34\n",
            "good luck\n"
          ]
        }
      ]
    },
    {
      "cell_type": "code",
      "source": [
        ""
      ],
      "metadata": {
        "id": "mdPm1VpzRTRI"
      },
      "execution_count": null,
      "outputs": []
    }
  ]
}